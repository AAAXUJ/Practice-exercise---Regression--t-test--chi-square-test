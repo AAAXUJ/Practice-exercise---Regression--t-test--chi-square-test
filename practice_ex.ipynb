{
 "cells": [
  {
   "cell_type": "markdown",
   "metadata": {},
   "source": [
    "AIM 1: Perform Regression\n",
    "\n",
    "1. Load the titanic dataset\n",
    "2. Handle missing values, if any\n",
    "3. Check for linearity between 'Age' and 'Fare'\n",
    "    3.1. If it's linear, perform Regression and visualize it\n",
    "    3.2. If it's not linear, still perform Regression and visualize it. What do you make of the result?\n",
    "    3.3. Plot the residuals to see if it's normally distributed. Residual can be plotted as scatter plot between the predicted Y value and residuals is the actual Y values and the predicted values. Predicted values is (intercept + slope * X)\n",
    "4. Load the penguins dataset\n",
    "5. Handle missing values, if any\n",
    "6. Check for linearity between 'bill_length_mm' and 'body_mass_g', and repeat the same process as you did in Step 3\n",
    "7. Try out different variables from the penguins dataset to perform regression"
   ]
  },
  {
   "cell_type": "code",
   "execution_count": null,
   "metadata": {},
   "outputs": [],
   "source": []
  },
  {
   "cell_type": "markdown",
   "metadata": {},
   "source": [
    "AIM 2: Performing t-Test\n",
    "\n",
    "1. Load the diabetic_data dataset\n",
    "2. Handle missing values, if any\n",
    "3. For the variable 'num_med_proc', check if the data is normally distributed in each of the gender category\n",
    "4. Calculate the total data points in each gender group\n",
    "    4.1. If n < 30 and data is normal, perform t-Test.\n",
    "    4.2. If n > 30 and data is not normal, perform Mann-Whitney U Test\n",
    "        4.2.1. Try performing the regular t-test even if n > 30 and data is not normal. Do you see any difference in the result?\n",
    "5. If the data is small and normally distributed, perform ANOVA on the above data. But if the data is large but not normally distributed, perform Kurskal-Wallis. \n",
    "    5.1. In either of the above cases, do you get similar result compared to Step 4?\n",
    "6. Use the appropriate plot to visualize your data "
   ]
  },
  {
   "cell_type": "code",
   "execution_count": null,
   "metadata": {},
   "outputs": [],
   "source": []
  },
  {
   "cell_type": "markdown",
   "metadata": {},
   "source": [
    "AIM 3: Perform Chi-square test\n",
    "\n",
    "1. Use the same diabetic_data\n",
    "2. Try to find which two variables can be used for the Chi-Square, and then perform the said test\n",
    "    2.1. After doing the test, calculate the 'expected frequency'\n",
    "    2.2. Count the total number of 'expected frequency'\n",
    "    2.3. Count the number of 'expected frequency' where the value is less than 5\n",
    "    2.3. Get the percentage of 'expected frequency' taht is less than 5 comapred to the total number of 'expected frequency'\n",
    "    2.4. If it is more than 20%, then try the test on different sets of categorical variables\n",
    "3. Interpret the results of the test.\n"
   ]
  }
 ],
 "metadata": {
  "kernelspec": {
   "display_name": "Python 3",
   "language": "python",
   "name": "python3"
  },
  "language_info": {
   "name": "python",
   "version": "3.11.5"
  }
 },
 "nbformat": 4,
 "nbformat_minor": 2
}
